{
 "cells": [
  {
   "cell_type": "code",
   "execution_count": 9,
   "id": "f294dbcf",
   "metadata": {},
   "outputs": [],
   "source": [
    "import pandas as pd\n",
    "import numpy as np\n",
    "import sys\n",
    "from rdkit import Chem, DataStructs\n",
    "import json\n",
    "import csv\n",
    "from rdkit.Chem import AllChem\n",
    "from tqdm import tqdm \n",
    "\n",
    "import os\n",
    "# sys.path.append(os.path.abspath(\"/Users/santuchal/Documents/new_ML/final_update_github/new_hERG/hERG/src\"))\n",
    "from new.PubChemFingerprints import *"
   ]
  },
  {
   "cell_type": "code",
   "execution_count": 3,
   "id": "94afc874",
   "metadata": {},
   "outputs": [
    {
     "name": "stderr",
     "output_type": "stream",
     "text": [
      "/var/folders/x6/r97phsxs5qb8n7m2m39tbx0m0000gn/T/ipykernel_71309/2062912925.py:1: DtypeWarning: Columns (118,119,120,124,125,126,130,131,132,136,137,138,142,143,144,148,149,150,154,155,156,160,161,162,166,167,168,172,173,174,268,269,270,274,275,276,280,281,282,286,287,288,292,293,294,298,299,300,304,305,306,310,311,312,316,317,318,322,323,324,327,328,329,332,333,334,337,338,339,342,343,344,347,348,349,352,353,354,357,358,359,362,363,364,367,368,369,372,373,374,377,378,379,382,383,384,387,388,389,392,393,394,397,398,399,402,403,404,407,408,409,412,413,414,417,418,419,422,423,424,480,481,482,483,493,494,495,496,720) have mixed types. Specify dtype option on import or set low_memory=False.\n",
      "  df = pd.read_csv(\"../data/train_validation_cardio_tox_data.csv\")\n"
     ]
    }
   ],
   "source": []
  },
  {
   "cell_type": "code",
   "execution_count": 8,
   "id": "7bc0975b",
   "metadata": {
    "scrolled": false
   },
   "outputs": [
    {
     "name": "stderr",
     "output_type": "stream",
     "text": [
      "/var/folders/x6/r97phsxs5qb8n7m2m39tbx0m0000gn/T/ipykernel_71309/2538337827.py:15: DtypeWarning: Columns (118,119,120,124,125,126,130,131,132,136,137,138,142,143,144,148,149,150,154,155,156,160,161,162,166,167,168,172,173,174,268,269,270,274,275,276,280,281,282,286,287,288,292,293,294,298,299,300,304,305,306,310,311,312,316,317,318,322,323,324,327,328,329,332,333,334,337,338,339,342,343,344,347,348,349,352,353,354,357,358,359,362,363,364,367,368,369,372,373,374,377,378,379,382,383,384,387,388,389,392,393,394,397,398,399,402,403,404,407,408,409,412,413,414,417,418,419,422,423,424,480,481,482,483,493,494,495,496,720) have mixed types. Specify dtype option on import or set low_memory=False.\n",
      "  df = pd.read_csv(\"../data/\"+str(file_read)+\".csv\")\n",
      "100%|████████████████████████████████████| 12620/12620 [01:28<00:00, 142.61it/s]\n",
      "100%|██████████████████████████████████████████| 41/41 [00:00<00:00, 164.32it/s]\n",
      "100%|████████████████████████████████████████| 740/740 [00:05<00:00, 144.26it/s]\n",
      "100%|██████████████████████████████████████████| 44/44 [00:00<00:00, 153.90it/s]\n"
     ]
    }
   ],
   "source": [
    "def CalculateECFP2Fingerprint(mol,radius=1): # copied from https://github.com/gadsbyfly/PyBioMed/blob/master/PyBioMed/PyMolecule/fingerprint.py \n",
    "\tres=AllChem.GetMorganFingerprint(mol,radius)\n",
    "\tfp = tuple(AllChem.GetMorganFingerprintAsBitVect(mol, radius, nBits = 1024))\n",
    "\treturn fp, res.GetNonzeroElements(), res\n",
    "\n",
    "def calculate_different_fingerprint(smile):\n",
    "\tmol = Chem.MolFromSmiles(smile)\n",
    "\tECFP2Fingerprint = CalculateECFP2Fingerprint(mol)\n",
    "\tPubChemFingerAll = calcPubChemFingerAll(mol)\n",
    "\treturn np.asarray(list(ECFP2Fingerprint[0]) + list(PubChemFingerAll))\n",
    "\n",
    "file_list = [ \"train_validation_cardio_tox_data\", \"external_test_set_neg\", \"external_test_set_new\", \"external_test_set_pos\"]\n",
    "\n",
    "for file_read in file_list:\n",
    "    df = pd.read_csv(\"../data/\"+str(file_read)+\".csv\")\n",
    "    total_activity = df.loc[:,'ACTIVITY']\n",
    "    total_smiles = df.loc[:,'smiles']\n",
    "    df = pd.DataFrame()\n",
    "    i = 0\n",
    "    total_finger_print = []\n",
    "    for smile in tqdm(total_smiles):\n",
    "        total_finger_print.append(calculate_different_fingerprint(smile))\n",
    "        i = i+1\n",
    "\n",
    "    with open('../data/MFP_data/'+str(file_read)+'_fingerprint_output.csv', 'w') as writeFile:\n",
    "        writer = csv.writer(writeFile, delimiter=\",\")\n",
    "        writer.writerows(total_finger_print)\n",
    "    writeFile.close()"
   ]
  },
  {
   "cell_type": "code",
   "execution_count": 11,
   "id": "a23d4b96",
   "metadata": {},
   "outputs": [
    {
     "name": "stderr",
     "output_type": "stream",
     "text": [
      "/var/folders/x6/r97phsxs5qb8n7m2m39tbx0m0000gn/T/ipykernel_71309/837221860.py:27: DtypeWarning: Columns (118,119,120,124,125,126,130,131,132,136,137,138,142,143,144,148,149,150,154,155,156,160,161,162,166,167,168,172,173,174,268,269,270,274,275,276,280,281,282,286,287,288,292,293,294,298,299,300,304,305,306,310,311,312,316,317,318,322,323,324,327,328,329,332,333,334,337,338,339,342,343,344,347,348,349,352,353,354,357,358,359,362,363,364,367,368,369,372,373,374,377,378,379,382,383,384,387,388,389,392,393,394,397,398,399,402,403,404,407,408,409,412,413,414,417,418,419,422,423,424,480,481,482,483,493,494,495,496,720) have mixed types. Specify dtype option on import or set low_memory=False.\n",
      "  df = pd.read_csv(\"../data/\"+file_read+\".csv\")\n"
     ]
    }
   ],
   "source": [
    "def convert_to_fingerprint_vectorizer(smiles):\n",
    "    bit_size=1024\n",
    "    Max_len=93\n",
    "    dataX = []\n",
    "    for smile in smiles:\n",
    "        mol = Chem.MolFromSmiles(smile)\n",
    "        fp = AllChem.GetMorganFingerprintAsBitVect(mol, 2, nBits=bit_size)\n",
    "        fp = np.array(fp)\n",
    "        dataX.append(fp)\n",
    "    dataX = np.array(dataX)\n",
    "    data_x = []\n",
    "    for i in range(len(dataX)):\n",
    "        fp = [0] * Max_len\n",
    "        n_ones = 0\n",
    "        for j in range(bit_size):\n",
    "            if dataX[i][j] == 1:\n",
    "                fp[n_ones] = j+1\n",
    "                n_ones += 1\n",
    "        data_x.append(fp)\n",
    "\n",
    "    data_x = np.array(data_x, dtype=np.int32)\n",
    "    return data_x\n",
    "\n",
    "\n",
    "file_list = [ \"train_validation_cardio_tox_data\", \"external_test_set_neg\", \"external_test_set_new\", \"external_test_set_pos\"]\n",
    "for file_read in file_list:\n",
    "    df = pd.read_csv(\"../data/\"+file_read+\".csv\")\n",
    "    total_activity = df.iloc[:, 0]#.loc[:,'ACTIVITY']\n",
    "    total_smiles = df.iloc[:, 1]#.loc[:,'smiles']\n",
    "    total_fingerprint_vectorizer_data = convert_to_fingerprint_vectorizer(total_smiles)\n",
    "\n",
    "    with open('../data/FPeV_data/'+file_read+'_vectorizer_data.csv', 'w') as writeFile:\n",
    "        writer = csv.writer(writeFile, delimiter=\",\")\n",
    "        writer.writerows(total_fingerprint_vectorizer_data)\n",
    "    writeFile.close()\n"
   ]
  },
  {
   "cell_type": "code",
   "execution_count": null,
   "id": "4ef16515",
   "metadata": {},
   "outputs": [],
   "source": []
  }
 ],
 "metadata": {
  "kernelspec": {
   "display_name": "Python 3 (ipykernel)",
   "language": "python",
   "name": "python3"
  },
  "language_info": {
   "codemirror_mode": {
    "name": "ipython",
    "version": 3
   },
   "file_extension": ".py",
   "mimetype": "text/x-python",
   "name": "python",
   "nbconvert_exporter": "python",
   "pygments_lexer": "ipython3",
   "version": "3.8.3"
  }
 },
 "nbformat": 4,
 "nbformat_minor": 5
}
