{
 "cells": [
  {
   "cell_type": "code",
   "execution_count": 3,
   "id": "839eda01",
   "metadata": {},
   "outputs": [],
   "source": [
    "import pandas as pd\n",
    "import numpy as np\n",
    "import sys\n",
    "import numbers\n",
    "from rdkit import Chem, DataStructs\n",
    "import json\n",
    "import csv\n",
    "from mordred import Calculator, descriptors\n",
    "from tqdm import tqdm"
   ]
  },
  {
   "cell_type": "code",
   "execution_count": 6,
   "id": "121fece8",
   "metadata": {},
   "outputs": [
    {
     "name": "stderr",
     "output_type": "stream",
     "text": [
      "/var/folders/x6/r97phsxs5qb8n7m2m39tbx0m0000gn/T/ipykernel_81673/2114453797.py:4: DtypeWarning: Columns (118,119,120,124,125,126,130,131,132,136,137,138,142,143,144,148,149,150,154,155,156,160,161,162,166,167,168,172,173,174,268,269,270,274,275,276,280,281,282,286,287,288,292,293,294,298,299,300,304,305,306,310,311,312,316,317,318,322,323,324,327,328,329,332,333,334,337,338,339,342,343,344,347,348,349,352,353,354,357,358,359,362,363,364,367,368,369,372,373,374,377,378,379,382,383,384,387,388,389,392,393,394,397,398,399,402,403,404,407,408,409,412,413,414,417,418,419,422,423,424,480,481,482,483,493,494,495,496,720) have mixed types. Specify dtype option on import or set low_memory=False.\n",
      "  df = pd.read_csv(\"../data/\"+file_read+\".csv\")\n",
      "  6%|██▎                                    | 763/12620 [02:51<52:08,  3.79it/s]/Users/santuchal/opt/anaconda3/lib/python3.8/site-packages/numpy/core/fromnumeric.py:86: RuntimeWarning: overflow encountered in reduce\n",
      "  return ufunc.reduce(obj, axis, dtype, out, **passkwargs)\n",
      "  8%|███                                    | 997/12620 [03:43<42:44,  4.53it/s]/Users/santuchal/opt/anaconda3/lib/python3.8/site-packages/numpy/core/fromnumeric.py:86: RuntimeWarning: overflow encountered in reduce\n",
      "  return ufunc.reduce(obj, axis, dtype, out, **passkwargs)\n",
      " 10%|███▊                                  | 1256/12620 [04:42<41:11,  4.60it/s]/Users/santuchal/opt/anaconda3/lib/python3.8/site-packages/numpy/core/fromnumeric.py:86: RuntimeWarning: overflow encountered in reduce\n",
      "  return ufunc.reduce(obj, axis, dtype, out, **passkwargs)\n",
      " 15%|█████▌                                | 1850/12620 [06:56<37:54,  4.73it/s]/Users/santuchal/opt/anaconda3/lib/python3.8/site-packages/numpy/core/fromnumeric.py:86: RuntimeWarning: overflow encountered in reduce\n",
      "  return ufunc.reduce(obj, axis, dtype, out, **passkwargs)\n",
      " 24%|████████▉                             | 2966/12620 [11:24<41:16,  3.90it/s]/Users/santuchal/opt/anaconda3/lib/python3.8/site-packages/numpy/core/fromnumeric.py:86: RuntimeWarning: overflow encountered in reduce\n",
      "  return ufunc.reduce(obj, axis, dtype, out, **passkwargs)\n",
      " 24%|████████▉                             | 2970/12620 [11:25<40:18,  3.99it/s]/Users/santuchal/opt/anaconda3/lib/python3.8/site-packages/numpy/core/fromnumeric.py:86: RuntimeWarning: overflow encountered in reduce\n",
      "  return ufunc.reduce(obj, axis, dtype, out, **passkwargs)\n",
      " 25%|█████████▎                            | 3094/12620 [11:55<35:52,  4.43it/s]/Users/santuchal/opt/anaconda3/lib/python3.8/site-packages/numpy/core/fromnumeric.py:86: RuntimeWarning: overflow encountered in reduce\n",
      "  return ufunc.reduce(obj, axis, dtype, out, **passkwargs)\n",
      " 28%|██████████▌                           | 3504/12620 [13:37<37:34,  4.04it/s]/Users/santuchal/opt/anaconda3/lib/python3.8/site-packages/numpy/core/fromnumeric.py:86: RuntimeWarning: overflow encountered in reduce\n",
      "  return ufunc.reduce(obj, axis, dtype, out, **passkwargs)\n",
      " 37%|█████████████▉                        | 4638/12620 [18:30<39:40,  3.35it/s]/Users/santuchal/opt/anaconda3/lib/python3.8/site-packages/numpy/core/fromnumeric.py:86: RuntimeWarning: overflow encountered in reduce\n",
      "  return ufunc.reduce(obj, axis, dtype, out, **passkwargs)\n",
      " 39%|██████████████▉                       | 4952/12620 [19:55<35:00,  3.65it/s]/Users/santuchal/opt/anaconda3/lib/python3.8/site-packages/numpy/core/fromnumeric.py:86: RuntimeWarning: overflow encountered in reduce\n",
      "  return ufunc.reduce(obj, axis, dtype, out, **passkwargs)\n",
      " 47%|█████████████████▉                    | 5947/12620 [24:25<29:12,  3.81it/s]/Users/santuchal/opt/anaconda3/lib/python3.8/site-packages/numpy/core/fromnumeric.py:86: RuntimeWarning: overflow encountered in reduce\n",
      "  return ufunc.reduce(obj, axis, dtype, out, **passkwargs)\n",
      " 58%|██████████████████████▏               | 7364/12620 [31:10<32:15,  2.72it/s]/Users/santuchal/opt/anaconda3/lib/python3.8/site-packages/numpy/core/fromnumeric.py:86: RuntimeWarning: overflow encountered in reduce\n",
      "  return ufunc.reduce(obj, axis, dtype, out, **passkwargs)\n",
      " 59%|██████████████████████▌               | 7506/12620 [31:52<23:34,  3.62it/s]/Users/santuchal/opt/anaconda3/lib/python3.8/site-packages/numpy/core/fromnumeric.py:86: RuntimeWarning: overflow encountered in reduce\n",
      "  return ufunc.reduce(obj, axis, dtype, out, **passkwargs)\n",
      " 60%|██████████████████████▊               | 7584/12620 [32:15<24:10,  3.47it/s]/Users/santuchal/opt/anaconda3/lib/python3.8/site-packages/numpy/core/fromnumeric.py:86: RuntimeWarning: overflow encountered in reduce\n",
      "  return ufunc.reduce(obj, axis, dtype, out, **passkwargs)\n",
      " 62%|███████████████████████▌              | 7829/12620 [33:27<22:19,  3.58it/s]/Users/santuchal/opt/anaconda3/lib/python3.8/site-packages/numpy/core/fromnumeric.py:86: RuntimeWarning: overflow encountered in reduce\n",
      "  return ufunc.reduce(obj, axis, dtype, out, **passkwargs)\n",
      " 63%|████████████████████████              | 7978/12620 [34:11<26:37,  2.91it/s]/Users/santuchal/opt/anaconda3/lib/python3.8/site-packages/numpy/core/fromnumeric.py:86: RuntimeWarning: overflow encountered in reduce\n",
      "  return ufunc.reduce(obj, axis, dtype, out, **passkwargs)\n",
      " 68%|█████████████████████████▊            | 8562/12620 [37:06<22:18,  3.03it/s]/Users/santuchal/opt/anaconda3/lib/python3.8/site-packages/numpy/core/fromnumeric.py:86: RuntimeWarning: overflow encountered in reduce\n",
      "  return ufunc.reduce(obj, axis, dtype, out, **passkwargs)\n",
      " 68%|█████████████████████████▊            | 8563/12620 [37:06<25:42,  2.63it/s]/Users/santuchal/opt/anaconda3/lib/python3.8/site-packages/numpy/core/fromnumeric.py:86: RuntimeWarning: overflow encountered in reduce\n",
      "  return ufunc.reduce(obj, axis, dtype, out, **passkwargs)\n",
      " 70%|██████████████████████████▋           | 8868/12620 [38:39<17:36,  3.55it/s]/Users/santuchal/opt/anaconda3/lib/python3.8/site-packages/numpy/core/fromnumeric.py:86: RuntimeWarning: overflow encountered in reduce\n",
      "  return ufunc.reduce(obj, axis, dtype, out, **passkwargs)\n",
      " 77%|█████████████████████████████▎        | 9735/12620 [44:00<19:43,  2.44it/s]/Users/santuchal/opt/anaconda3/lib/python3.8/site-packages/numpy/core/fromnumeric.py:86: RuntimeWarning: overflow encountered in reduce\n",
      "  return ufunc.reduce(obj, axis, dtype, out, **passkwargs)\n",
      " 90%|█████████████████████████████████▎   | 11371/12620 [52:52<07:03,  2.95it/s]/Users/santuchal/opt/anaconda3/lib/python3.8/site-packages/numpy/core/fromnumeric.py:86: RuntimeWarning: overflow encountered in reduce\n",
      "  return ufunc.reduce(obj, axis, dtype, out, **passkwargs)\n",
      " 93%|██████████████████████████████████▏  | 11675/12620 [54:34<04:40,  3.37it/s]/Users/santuchal/opt/anaconda3/lib/python3.8/site-packages/numpy/core/fromnumeric.py:86: RuntimeWarning: overflow encountered in reduce\n",
      "  return ufunc.reduce(obj, axis, dtype, out, **passkwargs)\n",
      " 95%|███████████████████████████████████▏ | 12010/12620 [56:22<03:07,  3.25it/s]/Users/santuchal/opt/anaconda3/lib/python3.8/site-packages/numpy/core/fromnumeric.py:86: RuntimeWarning: overflow encountered in reduce\n",
      "  return ufunc.reduce(obj, axis, dtype, out, **passkwargs)\n",
      " 99%|████████████████████████████████████▍| 12432/12620 [58:43<00:55,  3.37it/s]/Users/santuchal/opt/anaconda3/lib/python3.8/site-packages/numpy/core/fromnumeric.py:86: RuntimeWarning: overflow encountered in reduce\n",
      "  return ufunc.reduce(obj, axis, dtype, out, **passkwargs)\n",
      "100%|█████████████████████████████████████| 12620/12620 [59:46<00:00,  3.52it/s]\n"
     ]
    },
    {
     "name": "stdout",
     "output_type": "stream",
     "text": [
      "Total Row:  12620\n",
      "Total Column:  1826\n"
     ]
    },
    {
     "name": "stderr",
     "output_type": "stream",
     "text": [
      "100%|███████████████████████████████████████████| 41/41 [00:07<00:00,  5.56it/s]\n"
     ]
    },
    {
     "name": "stdout",
     "output_type": "stream",
     "text": [
      "Total Row:  41\n",
      "Total Column:  1826\n"
     ]
    },
    {
     "name": "stderr",
     "output_type": "stream",
     "text": [
      " 34%|█████████████▊                           | 249/740 [01:03<01:55,  4.26it/s]/Users/santuchal/opt/anaconda3/lib/python3.8/site-packages/numpy/core/fromnumeric.py:86: RuntimeWarning: overflow encountered in reduce\n",
      "  return ufunc.reduce(obj, axis, dtype, out, **passkwargs)\n",
      "100%|█████████████████████████████████████████| 740/740 [02:51<00:00,  4.31it/s]\n"
     ]
    },
    {
     "name": "stdout",
     "output_type": "stream",
     "text": [
      "Total Row:  740\n",
      "Total Column:  1826\n"
     ]
    },
    {
     "name": "stderr",
     "output_type": "stream",
     "text": [
      "100%|███████████████████████████████████████████| 44/44 [00:08<00:00,  5.48it/s]\n"
     ]
    },
    {
     "name": "stdout",
     "output_type": "stream",
     "text": [
      "Total Row:  44\n",
      "Total Column:  1826\n"
     ]
    }
   ],
   "source": [
    "file_list = [ \"train_validation_cardio_tox_data\", \"external_test_set_neg\", \"external_test_set_new\", \"external_test_set_pos\"]\n",
    "\n",
    "for file_read in file_list: \n",
    "    df = pd.read_csv(\"../data/\"+file_read+\".csv\")\n",
    "    total_activity = df.loc[:,'ACTIVITY']\n",
    "    total_smiles = df.loc[:,'smiles']\n",
    "    df1 = pd.DataFrame()\n",
    "    i=0\n",
    "    all_key = []\n",
    "    calc = Calculator(descriptors, ignore_3D = False)\n",
    "    for smile in tqdm(total_smiles):\n",
    "        all_values = []\n",
    "        mol = Chem.MolFromSmiles(smile)\n",
    "        x=calc(mol)\n",
    "        if i == 0: \n",
    "            for key in x.keys():\n",
    "                all_key.append(key)\n",
    "            df1 = pd.DataFrame(columns=all_key)\n",
    "        for value in x.values():\n",
    "            if isinstance(value, int) or isinstance(value, float):\n",
    "                all_values.append(value)\n",
    "            else:\n",
    "                all_values.append(0)\n",
    "\n",
    "        df1.loc[i] = np.array(all_values)\n",
    "        i = i+1\n",
    "\n",
    "    df1.to_csv(\"../data/DESC_data/\"+file_read+\"_extract_features.csv\",index=False)\n",
    "    print(\"Total Row: \",df1.shape[0])\n",
    "    print(\"Total Column: \", df1.shape[1])\n"
   ]
  },
  {
   "cell_type": "code",
   "execution_count": null,
   "id": "49fa6b3c",
   "metadata": {},
   "outputs": [],
   "source": []
  }
 ],
 "metadata": {
  "kernelspec": {
   "display_name": "Python 3 (ipykernel)",
   "language": "python",
   "name": "python3"
  },
  "language_info": {
   "codemirror_mode": {
    "name": "ipython",
    "version": 3
   },
   "file_extension": ".py",
   "mimetype": "text/x-python",
   "name": "python",
   "nbconvert_exporter": "python",
   "pygments_lexer": "ipython3",
   "version": "3.8.3"
  }
 },
 "nbformat": 4,
 "nbformat_minor": 5
}
